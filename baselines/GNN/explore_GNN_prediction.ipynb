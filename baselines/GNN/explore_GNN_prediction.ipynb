{
 "cells": [
  {
   "cell_type": "code",
   "execution_count": 1,
   "id": "4ea6e587",
   "metadata": {
    "lines_to_next_cell": 0
   },
   "outputs": [],
   "source": [
    "#  Copyright 2022 Institute of Advanced Research in Artificial Intelligence (IARAI) GmbH.\n",
    "#  IARAI licenses this file to You under the Apache License, Version 2.0\n",
    "#  (the \"License\"); you may not use this file except in compliance with\n",
    "#  the License. You may obtain a copy of the License at\n",
    "#  http://www.apache.org/licenses/LICENSE-2.0\n",
    "#  Unless required by applicable law or agreed to in writing, software\n",
    "#  distributed under the License is distributed on an \"AS IS\" BASIS,\n",
    "#  WITHOUT WARRANTIES OR CONDITIONS OF ANY KIND, either express or implied.\n",
    "#  See the License for the specific language governing permissions and\n",
    "#  limitations under the License."
   ]
  },
  {
   "cell_type": "code",
   "execution_count": 2,
   "id": "027b2d12",
   "metadata": {},
   "outputs": [],
   "source": [
    "import os\n",
    "import sys\n",
    "# Alternatevly, in order to make the module imports work properly set PYTHONPATH=$PWD before launching the notebook server from the repo root folder.\n",
    "sys.path.insert(0, os.path.abspath(\"../\"))  # noqa:E402"
   ]
  },
  {
   "cell_type": "markdown",
   "id": "e8e0a3f0",
   "metadata": {
    "lines_to_next_cell": 2
   },
   "source": [
    "![t4c20logo](../t4c20logo.png)"
   ]
  },
  {
   "cell_type": "code",
   "execution_count": 3,
   "id": "89596492",
   "metadata": {},
   "outputs": [
    {
     "name": "stdout",
     "output_type": "stream",
     "text": [
      "The time module is not an IPython extension.\n"
     ]
    },
    {
     "data": {
      "application/javascript": [
       "IPython.notebook.set_autosave_interval(60000)"
      ]
     },
     "metadata": {},
     "output_type": "display_data"
    },
    {
     "name": "stdout",
     "output_type": "stream",
     "text": [
      "Autosaving every 60 seconds\n"
     ]
    },
    {
     "data": {
      "text/html": [
       "<style>.container { width:80% !important; }</style>"
      ],
      "text/plain": [
       "<IPython.core.display.HTML object>"
      ]
     },
     "metadata": {},
     "output_type": "display_data"
    }
   ],
   "source": [
    "import statistics\n",
    "from collections import defaultdict\n",
    "\n",
    "import pandas as pd\n",
    "import torch\n",
    "import torch.nn.functional as F\n",
    "import torch_geometric\n",
    "import tqdm\n",
    "from IPython.core.display import HTML\n",
    "from IPython.display import display\n",
    "from torch import nn\n",
    "from torch_geometric.nn import MessagePassing\n",
    "from pathlib import Path\n",
    "import numpy as np\n",
    "\n",
    "import t4c22\n",
    "from t4c22.metric.masked_crossentropy import get_weights_from_class_fractions\n",
    "from t4c22.misc.t4c22_logging import t4c_apply_basic_logging_config\n",
    "from t4c22.t4c22_config import class_fractions\n",
    "from t4c22.t4c22_config import load_basedir\n",
    "from t4c22.dataloading.t4c22_dataset_geometric import T4c22GeometricDataset\n",
    "from t4c22.plotting.plot_congestion_classification import plot_segment_classifications_simple\n",
    "from t4c22.misc.notebook_helpers import restartkernel  # noqa:F401\n",
    "\n",
    "%matplotlib inline\n",
    "%load_ext autoreload\n",
    "%load_ext time\n",
    "%autoreload 2\n",
    "%autosave 60\n",
    "display(HTML(\"<style>.container { width:80% !important; }</style>\"))"
   ]
  },
  {
   "cell_type": "code",
   "execution_count": 4,
   "id": "55f6be23",
   "metadata": {},
   "outputs": [
    {
     "data": {
      "text/plain": [
       "(Data(x=[59110, 6], edge_index=[2, 132414], y=[132414]), 7040)"
      ]
     },
     "execution_count": 4,
     "metadata": {},
     "output_type": "execute_result"
    }
   ],
   "source": [
    "t4c_apply_basic_logging_config(loglevel=\"DEBUG\")\n",
    "# load BASEDIR from file, change to your data root\n",
    "BASEDIR = load_basedir(fn=\"t4c22_config.json\", pkg=t4c22)\n",
    "city = \"london\"\n",
    "# city = \"melbourne\"\n",
    "# city = \"madrid\"\n",
    "dataset = T4c22GeometricDataset(root=BASEDIR, city=city, split=\"train\", cachedir=Path(\"tmp/processed\"), add_nearest_ctr_edge=True)\n",
    "# train_dataset = T4c22GeometricDataset(root=BASEDIR, city=city, split=\"train\", cachedir=Path(\"/tmp/processed5\"), limit=1000)\n",
    "dataset.get(0), len(dataset)"
   ]
  },
  {
   "cell_type": "code",
   "execution_count": 5,
   "id": "f2549af4-c8b1-4b80-bb99-6328cf29984d",
   "metadata": {},
   "outputs": [
    {
     "data": {
      "application/vnd.jupyter.widget-view+json": {
       "model_id": "cf8d9f6be29b4c2d9dd24919c034fde5",
       "version_major": 2,
       "version_minor": 0
      },
      "text/plain": [
       "  0%|          | 0/440 [00:00<?, ?it/s]"
      ]
     },
     "metadata": {},
     "output_type": "display_data"
    }
   ],
   "source": [
    "# Writing data to cache\n",
    "for data in tqdm.notebook.tqdm(torch_geometric.loader.dataloader.DataLoader(dataset, batch_size=16, shuffle=False, num_workers=16)):\n",
    "    continue"
   ]
  },
  {
   "cell_type": "markdown",
   "id": "028f7b34",
   "metadata": {},
   "source": [
    "## Torch Geometric Dataset"
   ]
  },
  {
   "cell_type": "code",
   "execution_count": 6,
   "id": "4b05e8a1",
   "metadata": {},
   "outputs": [
    {
     "data": {
      "text/plain": [
       "(5632, 1408)"
      ]
     },
     "execution_count": 6,
     "metadata": {},
     "output_type": "execute_result"
    }
   ],
   "source": [
    "spl = int(((0.8 * len(dataset)) // 2) * 2)\n",
    "train_dataset, val_dataset = torch.utils.data.random_split(dataset, [spl, len(dataset) - spl])\n",
    "len(train_dataset), len(val_dataset)"
   ]
  },
  {
   "cell_type": "markdown",
   "id": "f2ec4493",
   "metadata": {},
   "source": [
    "## Testing"
   ]
  },
  {
   "cell_type": "code",
   "execution_count": 7,
   "id": "4df66d8a",
   "metadata": {},
   "outputs": [],
   "source": [
    "@torch.no_grad()\n",
    "def create_prediction(model, predictor):\n",
    "    model.to(device)\n",
    "    predictor.to(device)\n",
    "    city_class_weights.to(device)\n",
    "    loss_f = torch.nn.CrossEntropyLoss(weight=city_class_weights, ignore_index=-1, reduction=\"none\")\n",
    "    loss_f.to(device)\n",
    "    dfs = []\n",
    "\n",
    "    for idx, data in tqdm.notebook.tqdm(enumerate(dataset), total=len(dataset)):\n",
    "\n",
    "        data.x = data.x.nan_to_num(-1)\n",
    "        data = data.to(device)\n",
    "        h = model(data)\n",
    "\n",
    "        x_i = torch.index_select(h, 0, data.edge_index[0])\n",
    "        x_j = torch.index_select(h, 0, data.edge_index[1])\n",
    "\n",
    "        # logits\n",
    "        y_hat = predictor(x_i, x_j)\n",
    "        df = pd.DataFrame(torch.nn.functional.softmax(y_hat, dim=1).cpu().numpy(), columns=[\"0\", \"1\", \"2\"])\n",
    "        # print(data.y.cpu().numpy())\n",
    "        df[\"y\"] = data.y.nan_to_num(0).cpu().numpy()\n",
    "        df[\"y_hat\"] = df[[\"0\", \"1\", \"2\"]].idxmax(axis=1).astype(\"int64\")\n",
    "        dfs.append(df)\n",
    "\n",
    "    return dfs"
   ]
  },
  {
   "cell_type": "code",
   "execution_count": 8,
   "id": "f2da7271",
   "metadata": {},
   "outputs": [
    {
     "data": {
      "text/plain": [
       "{'green': 0.5367906303432076,\n",
       " 'yellow': 0.35138063340805714,\n",
       " 'red': 0.11182873624873524}"
      ]
     },
     "execution_count": 8,
     "metadata": {},
     "output_type": "execute_result"
    }
   ],
   "source": [
    "city_class_fractions = class_fractions[city]\n",
    "city_class_fractions"
   ]
  },
  {
   "cell_type": "code",
   "execution_count": 9,
   "id": "4315abf8",
   "metadata": {},
   "outputs": [
    {
     "data": {
      "text/plain": [
       "tensor([0.6210, 0.9486, 2.9807])"
      ]
     },
     "execution_count": 9,
     "metadata": {},
     "output_type": "execute_result"
    }
   ],
   "source": [
    "city_class_weights = get_weights_from_class_fractions([city_class_fractions[c] for c in [\"green\", \"yellow\", \"red\"]])\n",
    "# city_class_weights.append(0.1) # weight for no data\n",
    "city_class_weights = torch.tensor(city_class_weights).float()\n",
    "city_class_weights"
   ]
  },
  {
   "cell_type": "markdown",
   "id": "7efd9176",
   "metadata": {},
   "source": [
    "## Looking into London samples"
   ]
  },
  {
   "cell_type": "code",
   "execution_count": 10,
   "id": "bfc8a941",
   "metadata": {},
   "outputs": [
    {
     "data": {
      "text/plain": [
       "92"
      ]
     },
     "execution_count": 10,
     "metadata": {},
     "output_type": "execute_result"
    }
   ],
   "source": [
    "\n",
    "t4c_apply_basic_logging_config(loglevel=\"INFO\")\n",
    "city = \"london\"\n",
    "# Monday\n",
    "day = \"2019-07-01\"\n",
    "# load BASEDIR from file, change to your data root\n",
    "BASEDIR = load_basedir(fn=\"t4c22_config.json\", pkg=t4c22)\n",
    "dataset = T4c22GeometricDataset(root=BASEDIR, city=city, split=\"train\", cachedir=Path(\"tmp/processed\"), add_nearest_ctr_edge=True, day_t_filter=lambda _day, t: _day == day)\n",
    "len(dataset)"
   ]
  },
  {
   "cell_type": "code",
   "execution_count": 11,
   "id": "57c279ee",
   "metadata": {},
   "outputs": [
    {
     "data": {
      "text/plain": [
       "<All keys matched successfully>"
      ]
     },
     "execution_count": 11,
     "metadata": {},
     "output_type": "execute_result"
    }
   ],
   "source": [
    "from GNN_model import CongestioNN\n",
    "from GNN_model import LinkPredictor\n",
    "import json\n",
    "\n",
    "epochs = 2\n",
    "\n",
    "device = 1\n",
    "device = f\"cuda:{device}\" if torch.cuda.is_available() else \"cpu\"\n",
    "device = torch.device(device)\n",
    "\n",
    "\n",
    "with open(\"model_parameters.json\", \"r\") as f:\n",
    "    model_parameters = json.load(f)\n",
    "\n",
    "model = CongestioNN(**model_parameters[\"GNN\"])\n",
    "model.load_state_dict(torch.load(f\"GNN_model_{epochs:03d}.pt\", map_location=device))\n",
    "\n",
    "predictor = LinkPredictor(**model_parameters[\"Predictor\"])\n",
    "predictor.load_state_dict(torch.load(f\"GNN_predictor_{epochs:03d}.pt\", map_location=device))"
   ]
  },
  {
   "cell_type": "code",
   "execution_count": 12,
   "id": "5676db0c",
   "metadata": {
    "tags": []
   },
   "outputs": [
    {
     "data": {
      "application/vnd.jupyter.widget-view+json": {
       "model_id": "351474e5361e4c2b8baff4ee73489701",
       "version_major": 2,
       "version_minor": 0
      },
      "text/plain": [
       "  0%|          | 0/92 [00:00<?, ?it/s]"
      ]
     },
     "metadata": {},
     "output_type": "display_data"
    }
   ],
   "source": [
    "import seaborn as sns\n",
    "import matplotlib.pyplot as plt\n",
    "\n",
    "df = create_prediction(model, predictor)\n",
    "df = pd.concat(df).reset_index(drop=True)"
   ]
  },
  {
   "cell_type": "code",
   "execution_count": 13,
   "id": "7b042389-60ae-43d1-80ab-33dc3748e6eb",
   "metadata": {},
   "outputs": [
    {
     "data": {
      "text/html": [
       "<div>\n",
       "<style scoped>\n",
       "    .dataframe tbody tr th:only-of-type {\n",
       "        vertical-align: middle;\n",
       "    }\n",
       "\n",
       "    .dataframe tbody tr th {\n",
       "        vertical-align: top;\n",
       "    }\n",
       "\n",
       "    .dataframe thead th {\n",
       "        text-align: right;\n",
       "    }\n",
       "</style>\n",
       "<table border=\"1\" class=\"dataframe\">\n",
       "  <thead>\n",
       "    <tr style=\"text-align: right;\">\n",
       "      <th></th>\n",
       "      <th>0</th>\n",
       "      <th>1</th>\n",
       "      <th>2</th>\n",
       "      <th>y</th>\n",
       "      <th>y_hat</th>\n",
       "    </tr>\n",
       "  </thead>\n",
       "  <tbody>\n",
       "    <tr>\n",
       "      <th>0</th>\n",
       "      <td>0.697073</td>\n",
       "      <td>0.172223</td>\n",
       "      <td>0.130704</td>\n",
       "      <td>0.0</td>\n",
       "      <td>0</td>\n",
       "    </tr>\n",
       "    <tr>\n",
       "      <th>1</th>\n",
       "      <td>0.868091</td>\n",
       "      <td>0.075064</td>\n",
       "      <td>0.056845</td>\n",
       "      <td>0.0</td>\n",
       "      <td>0</td>\n",
       "    </tr>\n",
       "    <tr>\n",
       "      <th>2</th>\n",
       "      <td>0.985038</td>\n",
       "      <td>0.008480</td>\n",
       "      <td>0.006483</td>\n",
       "      <td>0.0</td>\n",
       "      <td>0</td>\n",
       "    </tr>\n",
       "    <tr>\n",
       "      <th>3</th>\n",
       "      <td>0.990036</td>\n",
       "      <td>0.005631</td>\n",
       "      <td>0.004333</td>\n",
       "      <td>0.0</td>\n",
       "      <td>0</td>\n",
       "    </tr>\n",
       "    <tr>\n",
       "      <th>4</th>\n",
       "      <td>0.729373</td>\n",
       "      <td>0.153700</td>\n",
       "      <td>0.116927</td>\n",
       "      <td>0.0</td>\n",
       "      <td>0</td>\n",
       "    </tr>\n",
       "    <tr>\n",
       "      <th>...</th>\n",
       "      <td>...</td>\n",
       "      <td>...</td>\n",
       "      <td>...</td>\n",
       "      <td>...</td>\n",
       "      <td>...</td>\n",
       "    </tr>\n",
       "    <tr>\n",
       "      <th>16830272</th>\n",
       "      <td>0.867266</td>\n",
       "      <td>0.075530</td>\n",
       "      <td>0.057204</td>\n",
       "      <td>0.0</td>\n",
       "      <td>0</td>\n",
       "    </tr>\n",
       "    <tr>\n",
       "      <th>16830273</th>\n",
       "      <td>0.775277</td>\n",
       "      <td>0.127753</td>\n",
       "      <td>0.096969</td>\n",
       "      <td>0.0</td>\n",
       "      <td>0</td>\n",
       "    </tr>\n",
       "    <tr>\n",
       "      <th>16830274</th>\n",
       "      <td>0.626390</td>\n",
       "      <td>0.210274</td>\n",
       "      <td>0.163336</td>\n",
       "      <td>0.0</td>\n",
       "      <td>0</td>\n",
       "    </tr>\n",
       "    <tr>\n",
       "      <th>16830275</th>\n",
       "      <td>0.992533</td>\n",
       "      <td>0.004202</td>\n",
       "      <td>0.003264</td>\n",
       "      <td>0.0</td>\n",
       "      <td>0</td>\n",
       "    </tr>\n",
       "    <tr>\n",
       "      <th>16830276</th>\n",
       "      <td>0.986267</td>\n",
       "      <td>0.007766</td>\n",
       "      <td>0.005967</td>\n",
       "      <td>0.0</td>\n",
       "      <td>0</td>\n",
       "    </tr>\n",
       "  </tbody>\n",
       "</table>\n",
       "<p>16830277 rows × 5 columns</p>\n",
       "</div>"
      ],
      "text/plain": [
       "                 0         1         2    y  y_hat\n",
       "0         0.697073  0.172223  0.130704  0.0      0\n",
       "1         0.868091  0.075064  0.056845  0.0      0\n",
       "2         0.985038  0.008480  0.006483  0.0      0\n",
       "3         0.990036  0.005631  0.004333  0.0      0\n",
       "4         0.729373  0.153700  0.116927  0.0      0\n",
       "...            ...       ...       ...  ...    ...\n",
       "16830272  0.867266  0.075530  0.057204  0.0      0\n",
       "16830273  0.775277  0.127753  0.096969  0.0      0\n",
       "16830274  0.626390  0.210274  0.163336  0.0      0\n",
       "16830275  0.992533  0.004202  0.003264  0.0      0\n",
       "16830276  0.986267  0.007766  0.005967  0.0      0\n",
       "\n",
       "[16830277 rows x 5 columns]"
      ]
     },
     "execution_count": 13,
     "metadata": {},
     "output_type": "execute_result"
    }
   ],
   "source": [
    "df"
   ]
  },
  {
   "cell_type": "code",
   "execution_count": 15,
   "id": "2ea6edd9-994d-45a5-9f54-a375af1be115",
   "metadata": {},
   "outputs": [
    {
     "data": {
      "text/plain": [
       "<AxesSubplot:xlabel='2', ylabel='Count'>"
      ]
     },
     "execution_count": 15,
     "metadata": {},
     "output_type": "execute_result"
    },
    {
     "data": {
      "image/png": "[encoded data removed]",
      "text/plain": [
       "<Figure size 1224x432 with 3 Axes>"
      ]
     },
     "metadata": {
      "needs_background": "light"
     },
     "output_type": "display_data"
    }
   ],
   "source": [
    "fig, axs = plt.subplots(ncols=3, figsize=(17, 6), sharey=True)\n",
    "bins = 100\n",
    "sns.histplot(data=df, x=\"0\", bins=bins, ax=axs[0])\n",
    "sns.histplot(data=df, x=\"1\", bins=bins, ax=axs[1])\n",
    "sns.histplot(data=df, x=\"2\", bins=bins, ax=axs[2])\n",
    "# sns.histplot(data=df, x=\"3\", bins=bins, ax=axs[3])"
   ]
  },
  {
   "cell_type": "code",
   "execution_count": 16,
   "id": "060603f2-a53b-401c-b0d3-8c4e913110c3",
   "metadata": {},
   "outputs": [],
   "source": [
    "from sklearn.metrics import confusion_matrix\n",
    "\n",
    "confm = confusion_matrix(df[\"y\"], df[\"y_hat\"], normalize=\"true\")"
   ]
  },
  {
   "cell_type": "code",
   "execution_count": 17,
   "id": "aa4fa69a-c5ec-46b5-878e-4817179606cd",
   "metadata": {},
   "outputs": [
    {
     "name": "stderr",
     "output_type": "stream",
     "text": [
      "[2022-08-17 14:19:45,642][DEBUG][39525][colorbar.py:_get_ticker_locator_formatter:871] locator: <matplotlib.ticker.AutoLocator object at 0x7f914b70f880>\n"
     ]
    },
    {
     "data": {
      "text/plain": [
       "[Text(0.5, 15.0, 'Prediction'), Text(33.0, 0.5, 'True Label')]"
      ]
     },
     "execution_count": 17,
     "metadata": {},
     "output_type": "execute_result"
    },
    {
     "data": {
      "image/png": "[encoded data removed]",
      "text/plain": [
       "<Figure size 432x288 with 2 Axes>"
      ]
     },
     "metadata": {
      "needs_background": "light"
     },
     "output_type": "display_data"
    }
   ],
   "source": [
    "ax = sns.heatmap(confm, annot=True)\n",
    "ax.set(xlabel='Prediction', ylabel='True Label')"
   ]
  }
 ],
 "metadata": {
  "jupytext": {
   "encoding": "# -*- coding: utf-8 -*-",
   "text_representation": {
    "extension": ".py",
    "format_name": "light",
    "format_version": "1.5",
    "jupytext_version": "1.11.2"
   }
  },
  "kernelspec": {
   "display_name": "Python 3 (ipykernel)",
   "language": "python",
   "name": "python3"
  },
  "language_info": {
   "codemirror_mode": {
    "name": "ipython",
    "version": 3
   },
   "file_extension": ".py",
   "mimetype": "text/x-python",
   "name": "python",
   "nbconvert_exporter": "python",
   "pygments_lexer": "ipython3",
   "version": "3.9.12"
  }
 },
 "nbformat": 4,
 "nbformat_minor": 5
}

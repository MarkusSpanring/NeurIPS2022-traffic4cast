{
 "cells": [
  {
   "cell_type": "code",
   "execution_count": 65,
   "id": "4ea6e587",
   "metadata": {
    "lines_to_next_cell": 0
   },
   "outputs": [],
   "source": [
    "#  Copyright 2022 Institute of Advanced Research in Artificial Intelligence (IARAI) GmbH.\n",
    "#  IARAI licenses this file to You under the Apache License, Version 2.0\n",
    "#  (the \"License\"); you may not use this file except in compliance with\n",
    "#  the License. You may obtain a copy of the License at\n",
    "#  http://www.apache.org/licenses/LICENSE-2.0\n",
    "#  Unless required by applicable law or agreed to in writing, software\n",
    "#  distributed under the License is distributed on an \"AS IS\" BASIS,\n",
    "#  WITHOUT WARRANTIES OR CONDITIONS OF ANY KIND, either express or implied.\n",
    "#  See the License for the specific language governing permissions and\n",
    "#  limitations under the License."
   ]
  },
  {
   "cell_type": "code",
   "execution_count": 66,
   "id": "027b2d12",
   "metadata": {},
   "outputs": [],
   "source": [
    "import os\n",
    "import sys\n",
    "# Alternatevly, in order to make the module imports work properly set PYTHONPATH=$PWD before launching the notebook server from the repo root folder.\n",
    "sys.path.insert(0, os.path.abspath(\"../\"))  # noqa:E402"
   ]
  },
  {
   "cell_type": "markdown",
   "id": "e8e0a3f0",
   "metadata": {
    "lines_to_next_cell": 2
   },
   "source": [
    "![t4c20logo](../t4c20logo.png)"
   ]
  },
  {
   "cell_type": "code",
   "execution_count": 67,
   "id": "89596492",
   "metadata": {},
   "outputs": [
    {
     "name": "stderr",
     "output_type": "stream",
     "text": [
      "[2022-08-18 13:57:03,861][DEBUG][70272][pyplot.py:switch_backend:295] Loaded backend module://matplotlib_inline.backend_inline version unknown.\n"
     ]
    },
    {
     "name": "stdout",
     "output_type": "stream",
     "text": [
      "The autoreload extension is already loaded. To reload it, use:\n",
      "  %reload_ext autoreload\n",
      "The time module is not an IPython extension.\n"
     ]
    },
    {
     "data": {
      "application/javascript": [
       "IPython.notebook.set_autosave_interval(60000)"
      ]
     },
     "metadata": {},
     "output_type": "display_data"
    },
    {
     "name": "stdout",
     "output_type": "stream",
     "text": [
      "Autosaving every 60 seconds\n"
     ]
    },
    {
     "data": {
      "text/html": [
       "<style>.container { width:80% !important; }</style>"
      ],
      "text/plain": [
       "<IPython.core.display.HTML object>"
      ]
     },
     "metadata": {},
     "output_type": "display_data"
    }
   ],
   "source": [
    "import statistics\n",
    "from collections import defaultdict\n",
    "\n",
    "import pandas as pd\n",
    "import torch\n",
    "import torch.nn.functional as F\n",
    "import torch_geometric\n",
    "import tqdm\n",
    "from IPython.core.display import HTML\n",
    "from IPython.display import display\n",
    "from torch import nn\n",
    "from torch_geometric.nn import MessagePassing\n",
    "from pathlib import Path\n",
    "import numpy as np\n",
    "\n",
    "import t4c22\n",
    "from t4c22.metric.masked_crossentropy import get_weights_from_class_fractions\n",
    "from t4c22.misc.t4c22_logging import t4c_apply_basic_logging_config\n",
    "from t4c22.t4c22_config import class_fractions\n",
    "from t4c22.t4c22_config import load_basedir\n",
    "from t4c22.dataloading.t4c22_dataset_geometric import T4c22GeometricDataset\n",
    "from t4c22.plotting.plot_congestion_classification import plot_segment_classifications_simple\n",
    "from t4c22.misc.notebook_helpers import restartkernel  # noqa:F401\n",
    "\n",
    "%matplotlib inline\n",
    "%load_ext autoreload\n",
    "%load_ext time\n",
    "%autoreload 2\n",
    "%autosave 60\n",
    "display(HTML(\"<style>.container { width:80% !important; }</style>\"))"
   ]
  },
  {
   "cell_type": "code",
   "execution_count": 68,
   "id": "55f6be23",
   "metadata": {},
   "outputs": [
    {
     "data": {
      "text/plain": [
       "(Data(x=[49510, 6], edge_index=[2, 135432], y=[135432]), 6784)"
      ]
     },
     "execution_count": 68,
     "metadata": {},
     "output_type": "execute_result"
    }
   ],
   "source": [
    "t4c_apply_basic_logging_config(loglevel=\"DEBUG\")\n",
    "# load BASEDIR from file, change to your data root\n",
    "BASEDIR = load_basedir(fn=\"t4c22_config.json\", pkg=t4c22)\n",
    "# city = \"london\"\n",
    "city = \"melbourne\"\n",
    "# city = \"madrid\"\n",
    "dataset = T4c22GeometricDataset(root=BASEDIR, city=city, split=\"train\", cachedir=Path(\"tmp/processed\"), add_nearest_ctr_edge=True)\n",
    "# train_dataset = T4c22GeometricDataset(root=BASEDIR, city=city, split=\"train\", cachedir=Path(\"/tmp/processed5\"), limit=1000)\n",
    "dataset.get(1), len(dataset)"
   ]
  },
  {
   "cell_type": "code",
   "execution_count": null,
   "id": "f2549af4-c8b1-4b80-bb99-6328cf29984d",
   "metadata": {},
   "outputs": [
    {
     "data": {
      "application/vnd.jupyter.widget-view+json": {
       "model_id": "fa0886684ded4c148c05d7815afe3e21",
       "version_major": 2,
       "version_minor": 0
      },
      "text/plain": [
       "  0%|          | 0/424 [00:00<?, ?it/s]"
      ]
     },
     "metadata": {},
     "output_type": "display_data"
    }
   ],
   "source": [
    "# Writing data to cache\n",
    "for data in tqdm.notebook.tqdm(torch_geometric.loader.dataloader.DataLoader(dataset, batch_size=16, shuffle=False, num_workers=16)):\n",
    "    continue"
   ]
  },
  {
   "cell_type": "markdown",
   "id": "028f7b34",
   "metadata": {},
   "source": [
    "## Torch Geometric Dataset"
   ]
  },
  {
   "cell_type": "code",
   "execution_count": null,
   "id": "4b05e8a1",
   "metadata": {},
   "outputs": [],
   "source": [
    "spl = int(((0.8 * len(dataset)) // 2) * 2)\n",
    "train_dataset, val_dataset = torch.utils.data.random_split(dataset, [spl, len(dataset) - spl])\n",
    "len(train_dataset), len(val_dataset)"
   ]
  },
  {
   "cell_type": "markdown",
   "id": "f2ec4493",
   "metadata": {},
   "source": [
    "## Testing"
   ]
  },
  {
   "cell_type": "code",
   "execution_count": null,
   "id": "f2da7271",
   "metadata": {},
   "outputs": [],
   "source": [
    "city_class_fractions = class_fractions[city]\n",
    "city_class_fractions"
   ]
  },
  {
   "cell_type": "code",
   "execution_count": null,
   "id": "4315abf8",
   "metadata": {},
   "outputs": [],
   "source": [
    "city_class_weights = get_weights_from_class_fractions([city_class_fractions[c] for c in [\"green\", \"yellow\", \"red\"]])\n",
    "# city_class_weights.append(0.1) # weight for no data\n",
    "city_class_weights = torch.tensor(city_class_weights).float()\n",
    "city_class_weights"
   ]
  },
  {
   "cell_type": "markdown",
   "id": "7efd9176",
   "metadata": {},
   "source": [
    "## Looking into London samples"
   ]
  },
  {
   "cell_type": "code",
   "execution_count": null,
   "id": "bfc8a941",
   "metadata": {},
   "outputs": [],
   "source": [
    "\n",
    "t4c_apply_basic_logging_config(loglevel=\"INFO\")\n",
    "city = \"london\"\n",
    "# Monday\n",
    "day = \"2019-07-01\"\n",
    "# load BASEDIR from file, change to your data root\n",
    "BASEDIR = load_basedir(fn=\"t4c22_config.json\", pkg=t4c22)\n",
    "dataset = T4c22GeometricDataset(root=BASEDIR, city=city, split=\"train\", cachedir=Path(\"tmp/processed\"), add_nearest_ctr_edge=True, day_t_filter=lambda _day, t: _day == day)\n",
    "len(dataset)"
   ]
  },
  {
   "cell_type": "code",
   "execution_count": null,
   "id": "4df66d8a",
   "metadata": {},
   "outputs": [],
   "source": [
    "@torch.no_grad()\n",
    "def create_prediction(model, predictor):\n",
    "    model.to(device)\n",
    "    predictor.to(device)\n",
    "    city_class_weights.to(device)\n",
    "    loss_f = torch.nn.CrossEntropyLoss(weight=city_class_weights, ignore_index=-1, reduction=\"none\")\n",
    "    loss_f.to(device)\n",
    "    dfs = []\n",
    "\n",
    "    for idx, data in tqdm.notebook.tqdm(enumerate(dataset), total=len(dataset)):\n",
    "\n",
    "        data.x = data.x.nan_to_num(-1)\n",
    "        data = data.to(device)\n",
    "        h = model(data)\n",
    "\n",
    "        x_i = torch.index_select(h, 0, data.edge_index[0])\n",
    "        x_j = torch.index_select(h, 0, data.edge_index[1])\n",
    "\n",
    "        # logits\n",
    "        y_hat = predictor(x_i, x_j)\n",
    "        df = pd.DataFrame(torch.nn.functional.softmax(y_hat, dim=1).cpu().numpy(), columns=[\"0\", \"1\", \"2\", \"3\"])\n",
    "        df_data = dataset.torch_road_graph_mapping._torch_to_df_cc(data=y_hat, day=day, t=idx)\n",
    "        df[\"u\"] = df_data[\"u\"].copy(deep=True)\n",
    "        df[\"v\"] = df_data[\"v\"].copy(deep=True)\n",
    "        df[\"day\"] = df_data[\"day\"].copy(deep=True)\n",
    "        df[\"t\"] = df_data[\"t\"].copy(deep=True)\n",
    "        # print(data.y.cpu().numpy())\n",
    "        df[\"y\"] = data.y.nan_to_num(3).cpu().numpy()\n",
    "        df[\"y_hat\"] = df[[\"0\", \"1\", \"2\", \"3\"]].idxmax(axis=1).astype(\"int64\")\n",
    "        dfs.append(df)\n",
    "\n",
    "    return dfs"
   ]
  },
  {
   "cell_type": "code",
   "execution_count": null,
   "id": "57c279ee",
   "metadata": {},
   "outputs": [],
   "source": [
    "from GNN_model import CongestioNN\n",
    "from GNN_model import LinkPredictor\n",
    "import json\n",
    "\n",
    "epochs = 3\n",
    "\n",
    "device = 1\n",
    "device = f\"cuda:{device}\" if torch.cuda.is_available() else \"cpu\"\n",
    "device = torch.device(device)\n",
    "\n",
    "\n",
    "with open(\"model_parameters.json\", \"r\") as f:\n",
    "    model_parameters = json.load(f)\n",
    "\n",
    "model = CongestioNN(**model_parameters[\"GNN\"])\n",
    "model.load_state_dict(torch.load(f\"GNN_model_{epochs:03d}.pt\", map_location=device))\n",
    "\n",
    "predictor = LinkPredictor(**model_parameters[\"Predictor\"])\n",
    "predictor.load_state_dict(torch.load(f\"GNN_predictor_{epochs:03d}.pt\", map_location=device))"
   ]
  },
  {
   "cell_type": "code",
   "execution_count": null,
   "id": "5676db0c",
   "metadata": {
    "tags": []
   },
   "outputs": [],
   "source": [
    "import seaborn as sns\n",
    "import matplotlib.pyplot as plt\n",
    "\n",
    "df = create_prediction(model, predictor)\n",
    "df = pd.concat(df).reset_index(drop=True)"
   ]
  },
  {
   "cell_type": "code",
   "execution_count": null,
   "id": "7b042389-60ae-43d1-80ab-33dc3748e6eb",
   "metadata": {},
   "outputs": [],
   "source": [
    "plot_df = df[df[\"y\"] != 4].reset_index(drop=True)\n",
    "plot_df"
   ]
  },
  {
   "cell_type": "code",
   "execution_count": null,
   "id": "2ea6edd9-994d-45a5-9f54-a375af1be115",
   "metadata": {
    "tags": []
   },
   "outputs": [],
   "source": [
    "fig, axs = plt.subplots(ncols=4, figsize=(17, 6), sharey=True)\n",
    "bins = 100\n",
    "for ax in axs:\n",
    "    ax.set_xlim([0.0, 1.0])\n",
    "sns.histplot(data=plot_df, x=\"0\", bins=bins, ax=axs[0])\n",
    "sns.histplot(data=plot_df, x=\"1\", bins=bins, ax=axs[1])\n",
    "sns.histplot(data=plot_df, x=\"2\", bins=bins, ax=axs[2])\n",
    "sns.histplot(data=plot_df, x=\"3\", bins=bins, ax=axs[3])"
   ]
  },
  {
   "cell_type": "code",
   "execution_count": null,
   "id": "060603f2-a53b-401c-b0d3-8c4e913110c3",
   "metadata": {},
   "outputs": [],
   "source": [
    "from sklearn.metrics import confusion_matrix\n",
    "\n",
    "confm = confusion_matrix(plot_df[\"y\"], plot_df[\"y_hat\"], normalize=\"true\")"
   ]
  },
  {
   "cell_type": "code",
   "execution_count": null,
   "id": "aa4fa69a-c5ec-46b5-878e-4817179606cd",
   "metadata": {},
   "outputs": [],
   "source": [
    "ax = sns.heatmap(confm, annot=True)\n",
    "ax.set(xlabel='Prediction', ylabel='True Label')"
   ]
  },
  {
   "cell_type": "code",
   "execution_count": null,
   "id": "bcbfd58f-5dd5-4ac9-810f-498385a56b5a",
   "metadata": {},
   "outputs": [],
   "source": [
    "def plot(u,v, df):\n",
    "    df_ = df[(df[\"u\"] == u) & (df[\"v\"] == v)].copy(deep=True)\n",
    "    df_[\"loss\"] = 1.\n",
    "    fig, ax = plot_segment_classifications_simple(\n",
    "        df_[\"y_hat\"].values,\n",
    "        df_[\"y\"].values,\n",
    "        losses=df_[\"loss\"].values,\n",
    "        proba_green=df_[\"0\"],\n",
    "        proba_yellow=df_[\"1\"],\n",
    "        proba_red=df_[\"2\"],\n",
    "    )"
   ]
  },
  {
   "cell_type": "code",
   "execution_count": null,
   "id": "80dddfe2-6a6a-419f-a42a-c90ef96eb015",
   "metadata": {
    "tags": []
   },
   "outputs": [],
   "source": [
    "# Marleybone flyover, eastbound\n",
    "u = 1178910690\n",
    "v = 197630\n",
    "\n",
    "plot(u, v, plot_df)"
   ]
  },
  {
   "cell_type": "code",
   "execution_count": null,
   "id": "1c6bb661-cb9c-4d3f-ae15-45a0a5a42055",
   "metadata": {},
   "outputs": [],
   "source": [
    "# Elephant and castle, northbound\n",
    "\n",
    "u = 2180693488\n",
    "v = 1868411754\n",
    "plot(u, v, plot_df)"
   ]
  },
  {
   "cell_type": "code",
   "execution_count": null,
   "id": "1ebfa25f-242d-49c6-b48e-35a9b668295f",
   "metadata": {
    "tags": []
   },
   "outputs": [],
   "source": [
    "# M25 near Waltham, eastbound\n",
    "u = 4737949241782541459\n",
    "v = 5177230596161574999\n",
    "plot(u, v, plot_df)"
   ]
  },
  {
   "cell_type": "code",
   "execution_count": null,
   "id": "1fcb2c77-f32f-4e8e-82e3-7bde17817cf0",
   "metadata": {
    "tags": []
   },
   "outputs": [],
   "source": [
    "# M25 near Potters Bar, westbound\n",
    "u = 8995114026285597218\n",
    "v = 196709089314436495\n",
    "plot(u, v, plot_df)\n",
    "plot_df[(plot_df[\"u\"] == u) & (plot_df[\"v\"] == v)]"
   ]
  },
  {
   "cell_type": "code",
   "execution_count": null,
   "id": "01fae970-a787-46d4-a4f2-e0304e1654c8",
   "metadata": {},
   "outputs": [],
   "source": [
    "# at counter 08/093\n",
    "u = 2180661925\n",
    "v = 8953368684960847732\n",
    "plot(u, v, plot_df)"
   ]
  }
 ],
 "metadata": {
  "jupytext": {
   "encoding": "# -*- coding: utf-8 -*-",
   "text_representation": {
    "extension": ".py",
    "format_name": "light",
    "format_version": "1.5",
    "jupytext_version": "1.11.2"
   }
  },
  "kernelspec": {
   "display_name": "Python 3 (ipykernel)",
   "language": "python",
   "name": "python3"
  },
  "language_info": {
   "codemirror_mode": {
    "name": "ipython",
    "version": 3
   },
   "file_extension": ".py",
   "mimetype": "text/x-python",
   "name": "python",
   "nbconvert_exporter": "python",
   "pygments_lexer": "ipython3",
   "version": "3.9.12"
  }
 },
 "nbformat": 4,
 "nbformat_minor": 5
}

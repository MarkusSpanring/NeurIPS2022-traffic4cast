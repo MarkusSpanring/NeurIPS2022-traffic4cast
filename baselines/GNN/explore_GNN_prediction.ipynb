{
 "cells": [
  {
   "cell_type": "code",
   "execution_count": 1,
   "id": "4ea6e587",
   "metadata": {
    "lines_to_next_cell": 0
   },
   "outputs": [],
   "source": [
    "#  Copyright 2022 Institute of Advanced Research in Artificial Intelligence (IARAI) GmbH.\n",
    "#  IARAI licenses this file to You under the Apache License, Version 2.0\n",
    "#  (the \"License\"); you may not use this file except in compliance with\n",
    "#  the License. You may obtain a copy of the License at\n",
    "#  http://www.apache.org/licenses/LICENSE-2.0\n",
    "#  Unless required by applicable law or agreed to in writing, software\n",
    "#  distributed under the License is distributed on an \"AS IS\" BASIS,\n",
    "#  WITHOUT WARRANTIES OR CONDITIONS OF ANY KIND, either express or implied.\n",
    "#  See the License for the specific language governing permissions and\n",
    "#  limitations under the License."
   ]
  },
  {
   "cell_type": "code",
   "execution_count": 2,
   "id": "027b2d12",
   "metadata": {},
   "outputs": [],
   "source": [
    "import os\n",
    "import sys\n",
    "# Alternatevly, in order to make the module imports work properly set PYTHONPATH=$PWD before launching the notebook server from the repo root folder.\n",
    "sys.path.insert(0, os.path.abspath(\"../\"))  # noqa:E402"
   ]
  },
  {
   "cell_type": "markdown",
   "id": "e8e0a3f0",
   "metadata": {
    "lines_to_next_cell": 2
   },
   "source": [
    "![t4c20logo](../t4c20logo.png)"
   ]
  },
  {
   "cell_type": "code",
   "execution_count": 3,
   "id": "89596492",
   "metadata": {},
   "outputs": [
    {
     "name": "stdout",
     "output_type": "stream",
     "text": [
      "The time module is not an IPython extension.\n"
     ]
    },
    {
     "data": {
      "application/javascript": [
       "IPython.notebook.set_autosave_interval(60000)"
      ]
     },
     "metadata": {},
     "output_type": "display_data"
    },
    {
     "name": "stdout",
     "output_type": "stream",
     "text": [
      "Autosaving every 60 seconds\n"
     ]
    },
    {
     "data": {
      "text/html": [
       "<style>.container { width:80% !important; }</style>"
      ],
      "text/plain": [
       "<IPython.core.display.HTML object>"
      ]
     },
     "metadata": {},
     "output_type": "display_data"
    }
   ],
   "source": [
    "import statistics\n",
    "from collections import defaultdict\n",
    "\n",
    "import pandas as pd\n",
    "import torch\n",
    "import torch.nn.functional as F\n",
    "import torch_geometric\n",
    "import tqdm\n",
    "from IPython.core.display import HTML\n",
    "from IPython.display import display\n",
    "from torch import nn\n",
    "from torch_geometric.nn import MessagePassing\n",
    "from pathlib import Path\n",
    "import numpy as np\n",
    "\n",
    "import t4c22\n",
    "from t4c22.metric.masked_crossentropy import get_weights_from_class_fractions\n",
    "from t4c22.misc.t4c22_logging import t4c_apply_basic_logging_config\n",
    "from t4c22.t4c22_config import class_fractions\n",
    "from t4c22.t4c22_config import load_basedir\n",
    "from t4c22.dataloading.t4c22_dataset_geometric import T4c22GeometricDataset\n",
    "from t4c22.plotting.plot_congestion_classification import plot_segment_classifications_simple\n",
    "from t4c22.misc.notebook_helpers import restartkernel  # noqa:F401\n",
    "\n",
    "%matplotlib inline\n",
    "%load_ext autoreload\n",
    "%load_ext time\n",
    "%autoreload 2\n",
    "%autosave 60\n",
    "display(HTML(\"<style>.container { width:80% !important; }</style>\"))"
   ]
  },
  {
   "cell_type": "code",
   "execution_count": 4,
   "id": "55f6be23",
   "metadata": {},
   "outputs": [
    {
     "data": {
      "text/plain": [
       "(Data(x=[59110, 6], edge_index=[2, 183493], y=[183493]), 7040)"
      ]
     },
     "execution_count": 4,
     "metadata": {},
     "output_type": "execute_result"
    }
   ],
   "source": [
    "t4c_apply_basic_logging_config(loglevel=\"DEBUG\")\n",
    "# load BASEDIR from file, change to your data root\n",
    "BASEDIR = load_basedir(fn=\"t4c22_config.json\", pkg=t4c22)\n",
    "city = \"london\"\n",
    "# city = \"melbourne\"\n",
    "# city = \"madrid\"\n",
    "dataset = T4c22GeometricDataset(root=BASEDIR, city=city, split=\"train\", cachedir=Path(\"tmp/processed\"))\n",
    "# train_dataset = T4c22GeometricDataset(root=BASEDIR, city=city, split=\"train\", cachedir=Path(\"/tmp/processed5\"), limit=1000)\n",
    "dataset.get(0), len(dataset)"
   ]
  },
  {
   "cell_type": "markdown",
   "id": "028f7b34",
   "metadata": {},
   "source": [
    "## Torch Geometric Dataset"
   ]
  },
  {
   "cell_type": "code",
   "execution_count": 5,
   "id": "4b05e8a1",
   "metadata": {},
   "outputs": [
    {
     "data": {
      "text/plain": [
       "(5632, 1408)"
      ]
     },
     "execution_count": 5,
     "metadata": {},
     "output_type": "execute_result"
    }
   ],
   "source": [
    "spl = int(((0.8 * len(dataset)) // 2) * 2)\n",
    "train_dataset, val_dataset = torch.utils.data.random_split(dataset, [spl, len(dataset) - spl])\n",
    "len(train_dataset), len(val_dataset)"
   ]
  },
  {
   "cell_type": "code",
   "execution_count": 6,
   "id": "f2549af4-c8b1-4b80-bb99-6328cf29984d",
   "metadata": {},
   "outputs": [
    {
     "data": {
      "application/vnd.jupyter.widget-view+json": {
       "model_id": "867ec55057f94553947b373f923ea854",
       "version_major": 2,
       "version_minor": 0
      },
      "text/plain": [
       "  0%|          | 0/352 [00:00<?, ?it/s]"
      ]
     },
     "metadata": {},
     "output_type": "display_data"
    },
    {
     "data": {
      "application/vnd.jupyter.widget-view+json": {
       "model_id": "7ef3df2c3b394e458e7c50b828bb77d1",
       "version_major": 2,
       "version_minor": 0
      },
      "text/plain": [
       "  0%|          | 0/88 [00:00<?, ?it/s]"
      ]
     },
     "metadata": {},
     "output_type": "display_data"
    }
   ],
   "source": [
    "# Writing data to cache\n",
    "# for data in tqdm.notebook.tqdm(torch_geometric.loader.dataloader.DataLoader(train_dataset, batch_size=16, shuffle=False, num_workers=16)):\n",
    "#     continue\n",
    "# for data in tqdm.notebook.tqdm(torch_geometric.loader.dataloader.DataLoader(val_dataset, batch_size=16, shuffle=False, num_workers=16)):\n",
    "#     continue"
   ]
  },
  {
   "cell_type": "markdown",
   "id": "f2ec4493",
   "metadata": {},
   "source": [
    "## Training"
   ]
  },
  {
   "cell_type": "code",
   "execution_count": 9,
   "id": "f2da7271",
   "metadata": {},
   "outputs": [
    {
     "data": {
      "text/plain": [
       "{'green': 0.5367906303432076,\n",
       " 'yellow': 0.35138063340805714,\n",
       " 'red': 0.11182873624873524}"
      ]
     },
     "execution_count": 9,
     "metadata": {},
     "output_type": "execute_result"
    }
   ],
   "source": [
    "city_class_fractions = class_fractions[city]\n",
    "city_class_fractions"
   ]
  },
  {
   "cell_type": "code",
   "execution_count": 10,
   "id": "4315abf8",
   "metadata": {},
   "outputs": [
    {
     "data": {
      "text/plain": [
       "tensor([0.6210, 0.9486, 2.9807, 0.0600])"
      ]
     },
     "execution_count": 10,
     "metadata": {},
     "output_type": "execute_result"
    }
   ],
   "source": [
    "city_class_weights = get_weights_from_class_fractions([city_class_fractions[c] for c in [\"green\", \"yellow\", \"red\"]])\n",
    "city_class_weights.append(0.06) # weight for no data\n",
    "city_class_weights = torch.tensor(city_class_weights).float()\n",
    "city_class_weights"
   ]
  },
  {
   "cell_type": "code",
   "execution_count": 8,
   "id": "57c279ee",
   "metadata": {},
   "outputs": [],
   "source": [
    "from GNN_model import CongestioNN\n",
    "from GNN_model import LinkPredictor\n",
    "\n",
    "hidden_channels = 256\n",
    "num_layers = 3\n",
    "batch_size = 1\n",
    "eval_steps = 1\n",
    "epochs = 20\n",
    "runs = 1\n",
    "dropout = 0.0\n",
    "num_edge_classes = 4\n",
    "num_features = 6\n",
    "\n",
    "\n",
    "model = CongestioNN(num_features, hidden_channels, hidden_channels, num_layers)\n",
    "model = model.to(device)\n",
    "\n",
    "predictor = LinkPredictor(hidden_channels, hidden_channels, num_edge_classes, num_layers, dropout).to(device)"
   ]
  },
  {
   "cell_type": "code",
   "execution_count": null,
   "id": "db5caaee",
   "metadata": {},
   "outputs": [],
   "source": [
    "# free resources by restarting kernel\n",
    "# restartkernel()"
   ]
  },
  {
   "cell_type": "markdown",
   "id": "7efd9176",
   "metadata": {},
   "source": [
    "## Looking into London samples"
   ]
  },
  {
   "cell_type": "code",
   "execution_count": 11,
   "id": "4df66d8a",
   "metadata": {},
   "outputs": [],
   "source": [
    "@torch.no_grad()\n",
    "def create_prediction():\n",
    "    model.to(device)\n",
    "    predictor.to(device)\n",
    "    city_class_weights.to(device)\n",
    "    loss_f = torch.nn.CrossEntropyLoss(weight=city_class_weights, ignore_index=-1, reduction=\"none\")\n",
    "    loss_f.to(device)\n",
    "    dfs = []\n",
    "\n",
    "    for idx, data in tqdm.notebook.tqdm(enumerate(dataset), total=len(dataset)):\n",
    "\n",
    "        data.x = data.x.nan_to_num(-1)\n",
    "        data = data.to(device)\n",
    "        h = model(data)\n",
    "\n",
    "        x_i = torch.index_select(h, 0, data.edge_index[0])\n",
    "        x_j = torch.index_select(h, 0, data.edge_index[1])\n",
    "\n",
    "        # logits\n",
    "        y_hat = predictor(x_i, x_j)\n",
    "        df = pd.DataFrame(torch.nn.functional.softmax(y_hat, dim=1).cpu().numpy(), columns=[\"0\", \"1\", \"2\", \"3\"])\n",
    "        # print(data.y.cpu().numpy())\n",
    "        df[\"y\"] = data.y.nan_to_num(3).cpu().numpy()\n",
    "        df[\"y_hat\"] = df[[\"0\", \"1\", \"2\", \"3\"]].idxmax(axis=1).astype(\"int64\")\n",
    "        dfs.append(df)\n",
    "\n",
    "    return dfs"
   ]
  },
  {
   "cell_type": "code",
   "execution_count": 19,
   "id": "bfc8a941",
   "metadata": {},
   "outputs": [
    {
     "data": {
      "text/plain": [
       "92"
      ]
     },
     "execution_count": 19,
     "metadata": {},
     "output_type": "execute_result"
    }
   ],
   "source": [
    "epochs = 8\n",
    "t4c_apply_basic_logging_config(loglevel=\"INFO\")\n",
    "city = \"london\"\n",
    "# Monday\n",
    "day = \"2019-07-01\"\n",
    "# load BASEDIR from file, change to your data root\n",
    "BASEDIR = load_basedir(fn=\"t4c22_config.json\", pkg=t4c22)\n",
    "dataset = T4c22GeometricDataset(root=BASEDIR, city=city, split=\"train\", cachedir=Path(\"tmp/processed\"), day_t_filter=lambda _day, t: _day == day)\n",
    "len(dataset)"
   ]
  },
  {
   "cell_type": "code",
   "execution_count": 20,
   "id": "dcf9b099",
   "metadata": {
    "lines_to_end_of_cell_marker": 2,
    "lines_to_next_cell": 2
   },
   "outputs": [
    {
     "data": {
      "text/plain": [
       "<All keys matched successfully>"
      ]
     },
     "execution_count": 20,
     "metadata": {},
     "output_type": "execute_result"
    }
   ],
   "source": [
    "device = 1\n",
    "device = f\"cuda:{device}\" if torch.cuda.is_available() else \"cpu\"\n",
    "\n",
    "city_class_weights = city_class_weights.to(device)\n",
    "\n",
    "model = CongestioNN(num_features, hidden_channels, hidden_channels, num_layers)\n",
    "model.load_state_dict(torch.load(f\"GNN_model_{epochs:03d}.pt\", map_location=device))\n",
    "\n",
    "predictor = LinkPredictor(hidden_channels, hidden_channels, num_edge_classes, num_layers, dropout)\n",
    "predictor.load_state_dict(torch.load(f\"GNN_predictor_{epochs:03d}.pt\", map_location=device))"
   ]
  },
  {
   "cell_type": "code",
   "execution_count": 21,
   "id": "5676db0c",
   "metadata": {
    "tags": []
   },
   "outputs": [
    {
     "data": {
      "application/vnd.jupyter.widget-view+json": {
       "model_id": "34f8c01d050a478ca2198137536a9166",
       "version_major": 2,
       "version_minor": 0
      },
      "text/plain": [
       "  0%|          | 0/92 [00:00<?, ?it/s]"
      ]
     },
     "metadata": {},
     "output_type": "display_data"
    }
   ],
   "source": [
    "import seaborn as sns\n",
    "import matplotlib.pyplot as plt\n",
    "\n",
    "df = create_prediction()\n",
    "df = pd.concat(df).reset_index(drop=True)"
   ]
  },
  {
   "cell_type": "code",
   "execution_count": 22,
   "id": "7b042389-60ae-43d1-80ab-33dc3748e6eb",
   "metadata": {},
   "outputs": [
    {
     "data": {
      "text/html": [
       "<div>\n",
       "<style scoped>\n",
       "    .dataframe tbody tr th:only-of-type {\n",
       "        vertical-align: middle;\n",
       "    }\n",
       "\n",
       "    .dataframe tbody tr th {\n",
       "        vertical-align: top;\n",
       "    }\n",
       "\n",
       "    .dataframe thead th {\n",
       "        text-align: right;\n",
       "    }\n",
       "</style>\n",
       "<table border=\"1\" class=\"dataframe\">\n",
       "  <thead>\n",
       "    <tr style=\"text-align: right;\">\n",
       "      <th></th>\n",
       "      <th>0</th>\n",
       "      <th>1</th>\n",
       "      <th>2</th>\n",
       "      <th>3</th>\n",
       "      <th>y</th>\n",
       "      <th>y_hat</th>\n",
       "    </tr>\n",
       "  </thead>\n",
       "  <tbody>\n",
       "    <tr>\n",
       "      <th>0</th>\n",
       "      <td>0.409608</td>\n",
       "      <td>0.144798</td>\n",
       "      <td>0.100506</td>\n",
       "      <td>0.345088</td>\n",
       "      <td>3.0</td>\n",
       "      <td>0</td>\n",
       "    </tr>\n",
       "    <tr>\n",
       "      <th>1</th>\n",
       "      <td>0.276351</td>\n",
       "      <td>0.078382</td>\n",
       "      <td>0.055589</td>\n",
       "      <td>0.589679</td>\n",
       "      <td>3.0</td>\n",
       "      <td>3</td>\n",
       "    </tr>\n",
       "    <tr>\n",
       "      <th>2</th>\n",
       "      <td>0.149364</td>\n",
       "      <td>0.120350</td>\n",
       "      <td>0.121568</td>\n",
       "      <td>0.608717</td>\n",
       "      <td>3.0</td>\n",
       "      <td>3</td>\n",
       "    </tr>\n",
       "    <tr>\n",
       "      <th>3</th>\n",
       "      <td>0.023636</td>\n",
       "      <td>0.003666</td>\n",
       "      <td>0.013246</td>\n",
       "      <td>0.959452</td>\n",
       "      <td>3.0</td>\n",
       "      <td>3</td>\n",
       "    </tr>\n",
       "    <tr>\n",
       "      <th>4</th>\n",
       "      <td>0.352150</td>\n",
       "      <td>0.134127</td>\n",
       "      <td>0.115079</td>\n",
       "      <td>0.398643</td>\n",
       "      <td>3.0</td>\n",
       "      <td>3</td>\n",
       "    </tr>\n",
       "    <tr>\n",
       "      <th>...</th>\n",
       "      <td>...</td>\n",
       "      <td>...</td>\n",
       "      <td>...</td>\n",
       "      <td>...</td>\n",
       "      <td>...</td>\n",
       "      <td>...</td>\n",
       "    </tr>\n",
       "    <tr>\n",
       "      <th>16881351</th>\n",
       "      <td>0.277424</td>\n",
       "      <td>0.079238</td>\n",
       "      <td>0.059524</td>\n",
       "      <td>0.583814</td>\n",
       "      <td>3.0</td>\n",
       "      <td>3</td>\n",
       "    </tr>\n",
       "    <tr>\n",
       "      <th>16881352</th>\n",
       "      <td>0.400863</td>\n",
       "      <td>0.122995</td>\n",
       "      <td>0.090004</td>\n",
       "      <td>0.386139</td>\n",
       "      <td>3.0</td>\n",
       "      <td>0</td>\n",
       "    </tr>\n",
       "    <tr>\n",
       "      <th>16881353</th>\n",
       "      <td>0.453193</td>\n",
       "      <td>0.231253</td>\n",
       "      <td>0.189231</td>\n",
       "      <td>0.126323</td>\n",
       "      <td>3.0</td>\n",
       "      <td>0</td>\n",
       "    </tr>\n",
       "    <tr>\n",
       "      <th>16881354</th>\n",
       "      <td>0.031171</td>\n",
       "      <td>0.014865</td>\n",
       "      <td>0.011751</td>\n",
       "      <td>0.942213</td>\n",
       "      <td>3.0</td>\n",
       "      <td>3</td>\n",
       "    </tr>\n",
       "    <tr>\n",
       "      <th>16881355</th>\n",
       "      <td>0.055444</td>\n",
       "      <td>0.049683</td>\n",
       "      <td>0.032320</td>\n",
       "      <td>0.862553</td>\n",
       "      <td>3.0</td>\n",
       "      <td>3</td>\n",
       "    </tr>\n",
       "  </tbody>\n",
       "</table>\n",
       "<p>16881356 rows × 6 columns</p>\n",
       "</div>"
      ],
      "text/plain": [
       "                 0         1         2         3    y  y_hat\n",
       "0         0.409608  0.144798  0.100506  0.345088  3.0      0\n",
       "1         0.276351  0.078382  0.055589  0.589679  3.0      3\n",
       "2         0.149364  0.120350  0.121568  0.608717  3.0      3\n",
       "3         0.023636  0.003666  0.013246  0.959452  3.0      3\n",
       "4         0.352150  0.134127  0.115079  0.398643  3.0      3\n",
       "...            ...       ...       ...       ...  ...    ...\n",
       "16881351  0.277424  0.079238  0.059524  0.583814  3.0      3\n",
       "16881352  0.400863  0.122995  0.090004  0.386139  3.0      0\n",
       "16881353  0.453193  0.231253  0.189231  0.126323  3.0      0\n",
       "16881354  0.031171  0.014865  0.011751  0.942213  3.0      3\n",
       "16881355  0.055444  0.049683  0.032320  0.862553  3.0      3\n",
       "\n",
       "[16881356 rows x 6 columns]"
      ]
     },
     "execution_count": 22,
     "metadata": {},
     "output_type": "execute_result"
    }
   ],
   "source": [
    "df"
   ]
  },
  {
   "cell_type": "code",
   "execution_count": 23,
   "id": "2ea6edd9-994d-45a5-9f54-a375af1be115",
   "metadata": {},
   "outputs": [
    {
     "data": {
      "text/plain": [
       "<AxesSubplot:xlabel='3', ylabel='Count'>"
      ]
     },
     "execution_count": 23,
     "metadata": {},
     "output_type": "execute_result"
    },
    {
     "data": {
      "image/png": "[encoded data removed]",
      "text/plain": [
       "<Figure size 1440x504 with 4 Axes>"
      ]
     },
     "metadata": {
      "needs_background": "light"
     },
     "output_type": "display_data"
    }
   ],
   "source": [
    "fig, axs = plt.subplots(ncols=4, figsize=(20, 7), sharey=True)\n",
    "bins = 100\n",
    "sns.histplot(data=df, x=\"0\", bins=bins, ax=axs[0])\n",
    "sns.histplot(data=df, x=\"1\", bins=bins, ax=axs[1])\n",
    "sns.histplot(data=df, x=\"2\", bins=bins, ax=axs[2])\n",
    "sns.histplot(data=df, x=\"3\", bins=bins, ax=axs[3])"
   ]
  },
  {
   "cell_type": "code",
   "execution_count": 24,
   "id": "060603f2-a53b-401c-b0d3-8c4e913110c3",
   "metadata": {},
   "outputs": [],
   "source": [
    "from sklearn.metrics import confusion_matrix\n",
    "\n",
    "confm = confusion_matrix(df[\"y\"], df[\"y_hat\"])"
   ]
  },
  {
   "cell_type": "code",
   "execution_count": 25,
   "id": "aa4fa69a-c5ec-46b5-878e-4817179606cd",
   "metadata": {},
   "outputs": [
    {
     "name": "stderr",
     "output_type": "stream",
     "text": [
      "[2022-08-16 12:11:41,518][DEBUG][153909][colorbar.py:_get_ticker_locator_formatter:871] locator: <matplotlib.ticker.AutoLocator object at 0x7f9600c6f370>\n"
     ]
    },
    {
     "data": {
      "text/plain": [
       "[Text(0.5, 15.0, 'Prediction'), Text(33.0, 0.5, 'True Label')]"
      ]
     },
     "execution_count": 25,
     "metadata": {},
     "output_type": "execute_result"
    },
    {
     "data": {
      "image/png": "[encoded data removed]",
      "text/plain": [
       "<Figure size 432x288 with 2 Axes>"
      ]
     },
     "metadata": {
      "needs_background": "light"
     },
     "output_type": "display_data"
    }
   ],
   "source": [
    "ax = sns.heatmap(confm, annot=True)\n",
    "ax.set(xlabel='Prediction', ylabel='True Label')"
   ]
  }
 ],
 "metadata": {
  "jupytext": {
   "encoding": "# -*- coding: utf-8 -*-",
   "text_representation": {
    "extension": ".py",
    "format_name": "light",
    "format_version": "1.5",
    "jupytext_version": "1.11.2"
   }
  },
  "kernelspec": {
   "display_name": "Python 3 (ipykernel)",
   "language": "python",
   "name": "python3"
  },
  "language_info": {
   "codemirror_mode": {
    "name": "ipython",
    "version": 3
   },
   "file_extension": ".py",
   "mimetype": "text/x-python",
   "name": "python",
   "nbconvert_exporter": "python",
   "pygments_lexer": "ipython3",
   "version": "3.9.12"
  }
 },
 "nbformat": 4,
 "nbformat_minor": 5
}
